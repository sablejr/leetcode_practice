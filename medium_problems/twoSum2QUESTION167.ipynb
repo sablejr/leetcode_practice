{
 "cells": [
  {
   "attachments": {},
   "cell_type": "markdown",
   "metadata": {},
   "source": [
    "input: 1-indexed array integer array called 'numbers' -> already sorted in increasing order\n",
    "\n",
    "find 2 numbers that add up to 'target' number (exactly one solution every time)\n",
    "\n",
    "numbers[index1], numbers[index2]"
   ]
  },
  {
   "cell_type": "code",
   "execution_count": null,
   "metadata": {},
   "outputs": [],
   "source": [
    "'''\n",
    "INITIAL SOLUTION:\n",
    "'''\n",
    "\n",
    "class Solution:\n",
    "    def twoSum(self, numbers: List[int], target: int) -> List[int]:\n",
    "        prevmap = {} #store numbers\n",
    "        index = [] #array for output\n",
    "        for i, n in enumerate(numbers): #i is index, n is number\n",
    "            diff = target - n #difference value\n",
    "            if diff in prevmap: #if there is a difference value in the dict, do the return\n",
    "                index.append(prevmap[diff] + 1) #add number 1 with specifications listed\n",
    "                index.append(i + 1) #add number 2 with specifications listed\n",
    "                return index \n",
    "            prevmap[n] = i #if not add the value to prevmap\n",
    "\n",
    "'''SIDENOTE: prevmap[n] = i -> {number: index}'''"
   ]
  },
  {
   "cell_type": "code",
   "execution_count": null,
   "metadata": {},
   "outputs": [],
   "source": [
    "'''\n",
    "TWO POINTER SOLUTION\n",
    "'''\n",
    "\n",
    "class Solution:\n",
    "    def twoSum(self, numbers: List[int], target: int) -> List[int]:\n",
    "        r = len(numbers) - 1 #right of list\n",
    "        l = 0 #left of list\n",
    "        index = [] #return list\n",
    "        \n",
    "        while l < r: # loop through array\n",
    "            sum = numbers[l] + numbers[r] #assignment of sum for faster results\n",
    "            if  sum == target: #if we found both numbers\n",
    "                l += 1 #for return specifications\n",
    "                r += 1\n",
    "                index.append(l) #add elements to list\n",
    "                index.append(r)\n",
    "                return index   #return list    \n",
    "            if sum < target:   #else make left bounds smaller\n",
    "                l += 1                \n",
    "            if sum > target:   #else make right bounds smaller\n",
    "                r -= 1"
   ]
  }
 ],
 "metadata": {
  "language_info": {
   "name": "python"
  },
  "orig_nbformat": 4
 },
 "nbformat": 4,
 "nbformat_minor": 2
}
