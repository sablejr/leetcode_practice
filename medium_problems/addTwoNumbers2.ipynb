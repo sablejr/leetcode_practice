{
 "cells": [
  {
   "attachments": {},
   "cell_type": "markdown",
   "metadata": {},
   "source": [
    "input: 2 non empty linked lists\n",
    "\n",
    "lists represent 2 numbers in reverse order\n",
    "\tex.) 2->4->3 = 342\n",
    "\t     5->6->4 = 456\n",
    "\n",
    "numbers are non negative\n",
    "two numbers do not contain any leading 0 except for 0 (there is no 01, but there is 0)\n",
    "\n",
    "\n",
    "add the two numbers and return the sum as a linked list\n",
    "\tex.) 2->4->3 + 5->6->4 = 807 -> RETURN 7->0->8\n",
    "\n",
    "make returning linked list\n",
    "iterate through list until the tail (no new node)"
   ]
  },
  {
   "cell_type": "code",
   "execution_count": null,
   "metadata": {},
   "outputs": [],
   "source": [
    "'''\n",
    "SOLUTION:\n",
    "'''\n",
    "# Definition for singly-linked list.\n",
    "# class ListNode:\n",
    "#     def __init__(self, val=0, next=None):\n",
    "#         self.val = val\n",
    "#         self.next = next\n",
    "class Solution:\n",
    "    def addTwoNumbers(self, l1: Optional[ListNode], l2: Optional[ListNode]) -> Optional[ListNode]:\n",
    "        sum = ListNode() #dummy node so we don't have to deal with edge cases of inserting into a LL\n",
    "        cur_node = sum #current pointer starting at the beginning of sum\n",
    "        carry_dig = 0 #initialize carry digit for addition\n",
    "        while l1 or l2 or carry_dig != 0: #iterate through if either list has an element/there is a carry\n",
    "            if l1: #if l1 is not null\n",
    "                num1 = l1.val #store l1 value\n",
    "            else:\n",
    "                num1 = 0 #if null add nothing \n",
    "            if l2: #if l2 is not null\n",
    "                num2 = l2.val #store l2 value\n",
    "            else:\n",
    "                num2 = 0 #if null add nothing        \n",
    "            val = num1 + num2 + carry_dig #add both numbers + any carry to have new sum\n",
    "            carry_dig = val // 10 #check to see if we get a new carry digit and store it\n",
    "            if  val >= 10: #if ther is a carry digit\n",
    "                val = val % 10 #we gotta get the ones place digit to store in node\n",
    "            cur_node.next = ListNode(val) #store value in node\n",
    "            cur_node = cur_node.next #increment to the next node\n",
    "            if l1: #if node is not null (not at the end of l1)\n",
    "                l1 = l1.next #increment l1\n",
    "            if l2: #if node is not null (not at the end of l2)\n",
    "                l2 = l2.next #increment l1\n",
    "        return sum.next\n"
   ]
  }
 ],
 "metadata": {
  "language_info": {
   "name": "python"
  },
  "orig_nbformat": 4
 },
 "nbformat": 4,
 "nbformat_minor": 2
}
