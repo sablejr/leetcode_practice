{
 "cells": [
  {
   "attachments": {},
   "cell_type": "markdown",
   "metadata": {},
   "source": [
    "Implement the MinStack class:\n",
    "\n",
    "\tMinStack() -> initializes the stack object.\n",
    "\tvoid push(int val) -> pushes element 'val' onto the stack.\n",
    "\tvoid pop() -> removes element on the top of the stack.\n",
    "\tint top() -> gets the top element of the stack.\n",
    "\tint getMin() -> returns the minimum element in the stack."
   ]
  },
  {
   "cell_type": "code",
   "execution_count": null,
   "metadata": {},
   "outputs": [],
   "source": [
    "'''\n",
    "SOLUTION:\n",
    "'''\n",
    "\n",
    "class MinStack:\n",
    "\n",
    "    def __init__(self):\n",
    "        self.stack = [] #initialize stack\n",
    "        \n",
    "    def push(self, val: int) -> None:\n",
    "        self.stack.append(val) #add element to the stack\n",
    "            \n",
    "    def pop(self) -> None:\n",
    "        self.stack.pop() #remove element from stack\n",
    "        \n",
    "    def top(self) -> int:\n",
    "        return self.stack[-1]  #return element on top of stack\n",
    "        \n",
    "    def getMin(self) -> int:\n",
    "            return min(self.stack) #return the minimum element in the stack\n",
    "\n",
    "\n",
    "# Your MinStack object will be instantiated and called as such:\n",
    "# obj = MinStack()\n",
    "# obj.push(val)\n",
    "# obj.pop()\n",
    "# param_3 = obj.top()\n",
    "# param_4 = obj.getMin()"
   ]
  },
  {
   "cell_type": "code",
   "execution_count": null,
   "metadata": {},
   "outputs": [],
   "source": [
    "'''OPTIMAL CODE: \n",
    "min work is done in push so there is no work to be done on return'''\n",
    "\n",
    "class MinStack:\n",
    "\n",
    "    def __init__(self):\n",
    "        self.stack = [] #initialize stack\n",
    "        self.min_stack = [] #initialize stack for min\n",
    "        \n",
    "    def push(self, val: int) -> None:\n",
    "        self.stack.append(val) #add element to the stack\n",
    "        if self.min_stack == []: #if min_stack is empty\n",
    "           min_val = val #current value is the minimum\n",
    "        else:\n",
    "            min_val = min(val, self.min_stack[-1]) #find lowest value between current value and last min_stack val\n",
    "        self.min_stack.append(min_val) #append lowest value to min_stack\n",
    "            \n",
    "    def pop(self) -> None:\n",
    "        self.stack.pop() #remove element from stack\n",
    "        self.min_stack.pop() #remove element from\n",
    "        \n",
    "    def top(self) -> int:\n",
    "        return self.stack[-1]  #return element on top of stack\n",
    "        \n",
    "    def getMin(self) -> int:\n",
    "            return self.min_stack[-1] #return the minimum element in the stack\n",
    "\n",
    "\n",
    "# Your MinStack object will be instantiated and called as such:\n",
    "# obj = MinStack()\n",
    "# obj.push(val)\n",
    "# obj.pop()\n",
    "# param_3 = obj.top()\n",
    "# param_4 = obj.getMin()"
   ]
  }
 ],
 "metadata": {
  "language_info": {
   "name": "python"
  },
  "orig_nbformat": 4
 },
 "nbformat": 4,
 "nbformat_minor": 2
}
