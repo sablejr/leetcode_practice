{
 "cells": [
  {
   "attachments": {},
   "cell_type": "markdown",
   "metadata": {},
   "source": [
    "palindrome = reads the same fowards and backwards\n",
    "convert all uppercase letters into lowercase letters, remove non-alphanumeric characters\n",
    "input: string 's'\n",
    "return true if a palindrome, empty string returns true\n",
    "'s' is only ascii characters\n",
    "\n",
    "iterate over string with 2 pointers:\n",
    "\tif not alphanumeric character:\n",
    "\t\treturn false\n",
    "\tadjust pointers \n",
    "return true"
   ]
  },
  {
   "cell_type": "code",
   "execution_count": null,
   "metadata": {},
   "outputs": [],
   "source": [
    "'''\n",
    "INITIAL SOLUTION:\n",
    "'''\n",
    "class Solution:\n",
    "    def isPalindrome(self, s: str) -> bool:\n",
    "        l1 = [] #list for regular string\n",
    "        l2 = [] #list for reversed string\n",
    "        s = s.lower() #make everythin lowercase\n",
    "        for i in range(0, len(s)): #iterate over string\n",
    "            if s[i].isalnum() == True: #check to see if char is alphanumeric\n",
    "                l1.insert(i, s[i]) #if so add it to the list\n",
    "    \n",
    "        for j in range(len(s)-1, -1, -1): #iterate over string (back-to-front)\n",
    "            if s[j].isalnum() == True: #check to see if char is alphanumeric\n",
    "                l2.append(s[j]) #if so add it to the list\n",
    "        return l1 == l2 #return true if regular string and reversed string lists are the same"
   ]
  },
  {
   "cell_type": "code",
   "execution_count": null,
   "metadata": {},
   "outputs": [],
   "source": [
    "'''\n",
    "OPTIMAL SOLUTION (TWO POINTERS):\n",
    "'''\n",
    "class Solution:\n",
    "    def isPalindrome(self, s: str) -> bool:\n",
    "        l, r = 0, len(s) - 1\n",
    "        while l < r: \n",
    "            while l < r and not s[l].isalnum(): #skip left element if not alphanumeric\n",
    "                l += 1\n",
    "            while l < r and not s[r].isalnum(): #skip right element if not alphanumeric\n",
    "                r -= 1\n",
    "            if s[l].lower() != s[r].lower():  # if elements of equal distance apart are not the same, 's' is not a palindrome \n",
    "                return False\n",
    "            l += 1 # increment left for next char check\n",
    "            r -= 1 # decrement right for next char check\n",
    "        return True"
   ]
  }
 ],
 "metadata": {
  "language_info": {
   "name": "python"
  },
  "orig_nbformat": 4
 },
 "nbformat": 4,
 "nbformat_minor": 2
}
