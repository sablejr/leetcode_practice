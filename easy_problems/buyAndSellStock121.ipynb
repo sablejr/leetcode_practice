{
 "cells": [
  {
   "attachments": {},
   "cell_type": "markdown",
   "metadata": {},
   "source": [
    "input : array 'prices'\n",
    "prices[i] elements are the price of a stock on the ith day\n",
    "choose one day to buy stock\n",
    "choose another day after the buy day to sell stock -> sell day can be every day execpt the first one\n",
    "return the max profit from selling stock\n",
    "if no profit, return 0\n",
    "\n",
    "have first buy day be 0\n",
    "iterate through first day to the end of 'prices[]' for possible sell days\n",
    "\tif you find a cheaper stock make it the new buy day\n",
    "\tdo profit calculation\n",
    "\tfind new max profit\n",
    "return the absolute max profit"
   ]
  },
  {
   "cell_type": "code",
   "execution_count": null,
   "metadata": {},
   "outputs": [],
   "source": [
    "'''\n",
    "INITIAL SOLUTION:\n",
    "'''\n",
    "class Solution:\n",
    "    def maxProfit(self, prices: List[int]) -> int:\n",
    "        max_profit = 0 #desired return\n",
    "        current_profit = 0 #profit for that check\n",
    "        buy_d = prices[0] #first buy day (cost)\n",
    "    \n",
    "        for i in range(1, len(prices)): #go over every possible sell day\n",
    "            if prices[i] < buy_d: #if day is less than current, new buy day\n",
    "                buy_d = prices[i]\n",
    "            if prices[i] > buy_d: #if day is more than current\n",
    "                current_profit = prices[i] - buy_d #stock profit math \n",
    "            if current_profit > max_profit: #check if this profit is the new max\n",
    "                max_profit = current_profit\n",
    "        return max_profit"
   ]
  },
  {
   "cell_type": "code",
   "execution_count": null,
   "metadata": {},
   "outputs": [],
   "source": [
    "'''\n",
    "OPTIMAL SOLUTION:\n",
    "'''\n",
    "class Solution:\n",
    "    def maxProfit(self, prices: List[int]) -> int:\n",
    "        ret = 0 #initial return number (if no profit you want to return 0)\n",
    "        l = 0 #first buy day, starts at first element of prices[]\n",
    "        for i in range(1, len(prices)): #iterate over every day except the first one\n",
    "            if prices[i] < prices[l]: #if the price of the current stock is lower than the current buy day\n",
    "                l = i #make this the new stock to buy\n",
    "            ret = max(ret, prices[i] - prices[l]) #return max of old profit and current profit\n",
    "        return ret"
   ]
  }
 ],
 "metadata": {
  "language_info": {
   "name": "python"
  },
  "orig_nbformat": 4
 },
 "nbformat": 4,
 "nbformat_minor": 2
}
