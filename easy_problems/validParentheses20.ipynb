{
 "cells": [
  {
   "attachments": {},
   "cell_type": "markdown",
   "metadata": {},
   "source": [
    "input: string 's'\n",
    "'s' only contains characters '(', ')', '{', '}', '[' and ']'\n",
    "return: true if 's' meets the specified conditions, else false\n",
    "SECIFIED CONDITIONS: \n",
    "\t1.)Open brackets must be closed by the same type of brackets.\n",
    "\t2.)Open brackets must be closed in the correct order.\n",
    "\n",
    "open bracket must be followed by closed bracket of the same type\n",
    "\n",
    "iterate through each char\n",
    "\tif char  is (')', '}', ']')\n",
    "\t\tif there is not ('(', '{', '[') before  it\n",
    "\t\t\treturn false\n",
    "\treturn true"
   ]
  },
  {
   "cell_type": "code",
   "execution_count": null,
   "metadata": {},
   "outputs": [],
   "source": [
    "'''\n",
    "SOLUTION:\n",
    "'''\n",
    "class Solution:\n",
    "    def isValid(self, s: str) -> bool:\n",
    "        par_table = ('(', '{', '[') #set for open par so we can match with closed par\n",
    "        stack = [] #stack to add par into\n",
    "        for i in s:\n",
    "            if i in par_table: #if open par\n",
    "                stack.append(i) #add to stack\n",
    "            if i == ')' and (len(stack) == 0 or stack.pop() != '('): #if closed par and no open one in stack or element before is not (pops element before)\n",
    "                return False\n",
    "            if i == ']' and (len(stack) == 0 or stack.pop() != '['): #if closed par and no open one in stack or element before is not (pops element before)\n",
    "                return False\n",
    "            if i == '}' and (len(stack) == 0 or stack.pop() != '{'): #if closed par and no open one in stack or element before is not (pops element before)\n",
    "                return False   \n",
    "        return len(stack) == 0 #return true if all par were taken care of \n"
   ]
  }
 ],
 "metadata": {
  "language_info": {
   "name": "python"
  },
  "orig_nbformat": 4
 },
 "nbformat": 4,
 "nbformat_minor": 2
}
