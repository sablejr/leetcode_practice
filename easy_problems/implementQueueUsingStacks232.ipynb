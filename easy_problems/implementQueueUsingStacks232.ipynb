{
 "cells": [
  {
   "attachments": {},
   "cell_type": "markdown",
   "metadata": {},
   "source": [
    "MAKING A CLASS IMPLEMENTATION\n",
    "implement a queue using only 2 stacks\n",
    "specifications:\n",
    "\t\tpush(int x) : push element x into the back of the queue \n",
    "\t\tpop() : remove the element in the front of the queue and return it\n",
    "\t\tpeek() : return the element at the front of the queue\n",
    "\t\tempty() : if queue is empty return true else false\n",
    "\n",
    "initialize 2 stacks, a push stack and a pop stack\n",
    "\n",
    "iterate over the push stack\n",
    "\tpop the element from the push stack and append it to the pop stack \n",
    "\t(this will give you a reverse stack so we can use the same functions to get  queue functionality)\n",
    "\t\tex.) [1, 2, 3] ->  [3, 2, 1]\n",
    "\n",
    "push ->  append element to back of push stack\n",
    "\n",
    "pop ->  if push stack has stuff in it \n",
    "\t\tadd it to the pop stack \n",
    "\tpop and return the last element from the pop stack\n",
    "\n",
    "peek -> if push stack has stuff in it \n",
    "\t\tadd it to the pop stack \n",
    "\treturn the first element from the pop stack\n",
    "\n",
    "empty -> check if push or pop stack has elements"
   ]
  },
  {
   "cell_type": "code",
   "execution_count": null,
   "metadata": {},
   "outputs": [],
   "source": [
    "'''\n",
    "SOLUTION:\n",
    "'''\n",
    "class MyQueue:\n",
    "    def __init__(self):\n",
    "      self.push_stack = []\n",
    "      self.pop_stack = []\n",
    "        \n",
    "\n",
    "    def push(self, x: int) -> None:\n",
    "      self.push_stack.append(x) #add element to the push stack\n",
    "        \n",
    "\n",
    "    def pop(self) -> int:\n",
    "      if not self.pop_stack: #if pop_stack has no elements\n",
    "        for _ in range(len(self.push_stack)): #iterate over all elements in push stack\n",
    "          self.pop_stack.append(self.push_stack.pop()) #push all elements to it from the push stack\n",
    "        \n",
    "      return self.pop_stack.pop() #otherwise, pop the last element\n",
    "        \n",
    "    \n",
    "    def peek(self) -> int:\n",
    "      if not self.pop_stack: #if pop_stack has no elements\n",
    "        for _ in range(len(self.push_stack)): #iterate over all elements in push stack\n",
    "          self.pop_stack.append(self.push_stack.pop()) #push all elements to it from the push stack\n",
    "        \n",
    "      return self.pop_stack[-1] #otherwise return last element of pop stack\n",
    "        \n",
    "    def empty(self) -> bool:\n",
    "      #if both stacks are empty return True\n",
    "      return True if len(self.push_stack) == 0 and len(self.pop_stack) == 0 else False"
   ]
  },
  {
   "attachments": {},
   "cell_type": "markdown",
   "metadata": {},
   "source": [
    "    TIME COMPLEXITY: amortized (average time taken per operation, if you do many operations) O(1) for pop and peek, O(1) for push and empty\n",
    "    SPACE COMPLEXITY: O(N)"
   ]
  }
 ],
 "metadata": {
  "language_info": {
   "name": "python"
  },
  "orig_nbformat": 4
 },
 "nbformat": 4,
 "nbformat_minor": 2
}
