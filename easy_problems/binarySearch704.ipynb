{
 "cells": [
  {
   "attachments": {},
   "cell_type": "markdown",
   "metadata": {},
   "source": [
    "inputs: int array 'nums' -> sorted in ascending order , int 'target'\n",
    "\n",
    "binary search -> split array in half search each half to narrow down, update half, and repeat til done\n",
    "\n",
    "search 'target' in 'nums, if it exists, return  the index of 'target\n",
    "else return -1\n",
    "MUST USE O(log n) time complexity -> BINARY SEARCH"
   ]
  },
  {
   "cell_type": "code",
   "execution_count": null,
   "metadata": {},
   "outputs": [],
   "source": [
    "'''\n",
    "INITIAL SOLUTION: \n",
    "'''\n",
    "\n",
    "class Solution:\n",
    "    def search(self, nums: List[int], target: int) -> int:\n",
    "        high = len(nums) - 1 #end of list\n",
    "        low = 0 #beginning of list\n",
    "        \n",
    "        while high >= low: #while the low value is less than or the same as high value\n",
    "            \n",
    "            mid = (high + low) // 2 #create midpoint\n",
    "            \n",
    "            if nums[mid] == target: #if the midpoint number is target, return it\n",
    "                return mid\n",
    "                \n",
    "            if nums[mid] < target: #if the midpoint number is less than target, increment list start\n",
    "                low += 1\n",
    "                print(low, high, nums[mid]) #HOW TO PRINT BINARY SEARCH FOR DEBUGGING\n",
    "                \n",
    "            if nums[mid] > target: #if the midpoint number is greater than target, decrement list end\n",
    "                high -= 1\n",
    "                print(low, high, nums[mid]) #HOW TO PRINT BINARY SEARCH FOR DEBUGGING\n",
    "        \n",
    "        return(-1) #if value not in array, return -1"
   ]
  },
  {
   "cell_type": "code",
   "execution_count": null,
   "metadata": {},
   "outputs": [],
   "source": [
    "'''\n",
    "OPTIMAL SOLUTION:\n",
    "'''\n",
    "\n",
    "class Solution:\n",
    "    def search(self, nums: List[int], target: int) -> int:\n",
    "        l, r = 0, len(nums) - 1\n",
    "\n",
    "        while l <= r:\n",
    "            m = l + ((r - l) // 2)  # (l + r) // 2 CAN LEAD TO OVERFLOW\n",
    "            if nums[m] > target:\n",
    "                r = m - 1\n",
    "            elif nums[m] < target:\n",
    "                l = m + 1\n",
    "            else:\n",
    "                return m\n",
    "        return -1"
   ]
  }
 ],
 "metadata": {
  "language_info": {
   "name": "python"
  },
  "orig_nbformat": 4
 },
 "nbformat": 4,
 "nbformat_minor": 2
}
