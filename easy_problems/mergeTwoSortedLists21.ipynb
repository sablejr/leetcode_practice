{
 "cells": [
  {
   "attachments": {},
   "cell_type": "markdown",
   "metadata": {},
   "source": [
    "input: 2 linked lists 'list1', 'list2'\n",
    "merge two list into one sorted list\n",
    "return the head of the merged linked list\n",
    "\n",
    "you want first element of l1, first element of l2, second element of l1, ect.)\n",
    "\n",
    "l1 and l2 are sorted in non decreasing order\n",
    "\n",
    "check if list 1 and list 2 are not empty\n",
    "\tcheck which list has the smaller element\n",
    "\t\tset that node to the return list node \n",
    "\t\tincrement that list\n",
    "\tincrement return list\n",
    "\n",
    "check if just list 1 or just list 2 and set that lists nodes to the return list nodes "
   ]
  },
  {
   "cell_type": "code",
   "execution_count": null,
   "metadata": {},
   "outputs": [],
   "source": [
    "'''\n",
    "SOLUTION:\n",
    "'''\n",
    "# Definition for singly-linked list.\n",
    "# class ListNode:\n",
    "#     def __init__(self, val=0, next=None):\n",
    "#         self.val = val\n",
    "#         self.next = next\n",
    "class Solution:\n",
    "    def mergeTwoLists(self, list1: Optional[ListNode], list2: Optional[ListNode]) -> Optional[ListNode]:\n",
    "        ans = ListNode() #dummy node so we don't have to deal with edge cases of inserting into a LL\n",
    "        cur_node = ans #current pointer starting at the beginning of ans\n",
    "        while list1 and list2: #while list1 and list2 are not null\n",
    "            if list1.val <= list2.val:  #if list1 value is less than or equal too list2 value\n",
    "                cur_node.next = list1   #store value of list1 in next node\n",
    "                list1 = list1.next      #next list1 node\n",
    "            else: #if list2 value bigger\n",
    "                cur_node.next = list2 #store value of list2 in next node\n",
    "                list2 = list2.next  #next list2 node\n",
    "            cur_node = cur_node.next #increment return list node\n",
    "            \n",
    "        while list1: #if list2 is null \n",
    "                cur_node.next = list1  #add list1 element\n",
    "                list1 = list1.next #next list1 node\n",
    "                cur_node = cur_node.next #increment return list node\n",
    "        while list2: #if list1 is null\n",
    "                cur_node.next  = list2 #add list2 element\n",
    "                list2 = list2.next #next list2 node\n",
    "                cur_node = cur_node.next #increment return list node\n",
    "        return ans.next "
   ]
  }
 ],
 "metadata": {
  "language_info": {
   "name": "python"
  },
  "orig_nbformat": 4
 },
 "nbformat": 4,
 "nbformat_minor": 2
}
