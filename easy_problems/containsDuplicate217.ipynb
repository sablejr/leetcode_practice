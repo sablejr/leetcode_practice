{
 "cells": [
  {
   "attachments": {},
   "cell_type": "markdown",
   "metadata": {},
   "source": [
    "input: array 'nums'\n",
    "return: true if value appears more than once in 'nums', false if every element is different\n",
    "\n",
    "store value in stack/set/dict/list\n",
    "iterate over the structure\n",
    "\tif a value appears 2 or more times in the structure, return true\n",
    "\tadd the item to the structure\n",
    "return false otherwise "
   ]
  },
  {
   "cell_type": "code",
   "execution_count": null,
   "metadata": {},
   "outputs": [],
   "source": [
    "'''\n",
    "SOLUTION:\n",
    "'''\n",
    "class Solution:\n",
    "    def containsDuplicate(self, nums: List[int]) -> bool:\n",
    "        checker = set() #set to store first occurences of an element\n",
    "        for i in range(0, len(nums)): \n",
    "            if nums[i] in checker: #if character is already in set, return true\n",
    "                return True\n",
    "            checker.add(nums[i]) #adds first occurence of nums number\n",
    "        return False # if no second+ occurences, return false"
   ]
  }
 ],
 "metadata": {
  "language_info": {
   "name": "python"
  },
  "orig_nbformat": 4
 },
 "nbformat": 4,
 "nbformat_minor": 2
}
